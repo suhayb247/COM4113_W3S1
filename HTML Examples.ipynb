{
 "cells": [
  {
   "cell_type": "markdown",
   "id": "5fb89320",
   "metadata": {},
   "source": [
    "Here I can explain the code, which is great. \n",
    "\n",
    "```html\n",
    "<!DOCTYPE html>\n",
    "<html>\n",
    "<head>\n",
    "    <title>My HTML Page</title>\n",
    "</head>\n",
    "<body>\n",
    "    <h1>Hello, HTML!</h1>\n",
    "    <p>This is a simple HTML page.</p>\n",
    "</body>\n",
    "</html>\n",
    "```"
   ]
  },
  {
   "cell_type": "markdown",
   "id": "1bc83a35",
   "metadata": {},
   "source": []
  },
  {
   "cell_type": "markdown",
   "id": "40f16773",
   "metadata": {},
   "source": [
    "Let's add some styling to the file"
   ]
  },
  {
   "cell_type": "markdown",
   "id": "aff0f2e6",
   "metadata": {},
   "source": [
    "<!DOCTYPE html>\n",
    "<html>\n",
    "<head>\n",
    "    <title>My HTML Page</title>\n",
    "</head>\n",
    "<body>\n",
    "    <h1>Suhayb Mohammed</h1>\n",
    "    <p>This is a simple HTML page.</p>\n",
    "</body>\n",
    "</html>\n",
    "<!DOCTYPE html>\n",
    "<html>\n",
    "    <head>\n",
    "        <title>Letter to self</title>\n",
    "        <style>\n",
    "            /* Personal profile styles */\n",
    "\n",
    "            body {\n",
    "                font-family: Arial, sans-serif;\n",
    "                background-color: #f0f2f5;\n",
    "            }\n",
    "            h1 {\n",
    "                font-size: 36px;\n",
    "                font-weight: bold;\n",
    "                color: #1877f2;\n",
    "                text-align: center;\n",
    "                margin-top: 50px;\n",
    "            }\n",
    "            h2 {\n",
    "                font-size: 24px;\n",
    "                font-weight: bold;\n",
    "                color: #1c1e21;\n",
    "                margin-top: 30px;\n",
    "                margin-left: 50px;\n",
    "            }\n",
    "            p {\n",
    "                font-size: 18px;\n",
    "                color: #1c1e21;\n",
    "                line-height: 1.5;\n",
    "                text-align: justify;\n",
    "                margin: 20px 50px;\n",
    "            }\n",
    "            .profile-pic {\n",
    "                width: 200px;\n",
    "                height: 200px;\n",
    "                border-radius: 50%;\n",
    "                margin: 50px auto;\n",
    "                display: block;\n",
    "            }\n",
    "            .name {\n",
    "                font-size: 28px;\n",
    "                font-weight: bold;\n",
    "                color: #1c1e21;\n",
    "                text-align: center;\n",
    "            }\n",
    "            .bio {\n",
    "                font-size: 18px;\n",
    "                color: #1c1e21;\n",
    "                line-height: 1.5;\n",
    "                text-align: justify;\n",
    "                margin: 20px 50px;\n",
    "            }\n",
    "            .contact-info {\n",
    "                font-size: 18px;\n",
    "                color: #1c1e21;\n",
    "                line-height: 1.5;\n",
    "                text-align: center;\n",
    "                margin-top: 50px;\n",
    "            }\n",
    "            .contact-info a {\n",
    "                color: #1877f2;\n",
    "                text-decoration: none;\n",
    "            }\n",
    "        </style>\n",
    "    </head>\n",
    "    <body>\n",
    "        <img src=\"image-img_5025.jpg\" alt=\"Description of image\" width=\"300\">\n",
    "        <h1 class=\"name\">Suhayb Mohammed</h1>\n",
    "        <p class=\"bio\">A brief description about yourself goes here.</p>\n",
    "        <h2>About Me</h2>\n",
    "        <p class=\"bio\">Write a longer description about yourself here.</p>\n",
    "        <h2>Contact Information</h2>\n",
    "        <p class=\"contact-info\">Email: <a href=\"mailto:youremail@example.com\">youremail@example.com</a><br>Phone: 123-456-7890</p>\n",
    "    </body>\n",
    "</html>\n",
    "\n",
    "<iframe width=\"560\" height=\"315\" src=\"https://www.youtube.com/embed/kbGRmBlC3yA?si=gGLsc7zj650DlEC_\" title=\"\n",
    "YouTube video player\" frameborder=\"0\" allow=\"accelerometer; autoplay; clipboard\n",
    "-write; encrypted-media; gyroscope; picture-in-picture; web-share\" allowfullscreen></iframe>\n",
    "\n",
    "<!DOCTYPE html>\n",
    "<html>\n",
    "    <head>\n",
    "        <title>Letter to self</title>\n",
    "        <style>\n",
    "            /* Personal profile styles */\n",
    "            body {\n",
    "                font-family: Arial, sans-serif;\n",
    "                background-color: #f0f2f5;\n",
    "            }\n",
    "            h1 {\n",
    "                font-size: 36px;\n",
    "                font-weight: bold;\n",
    "                color: #1877f2;\n",
    "                text-align: center;\n",
    "                margin-top: 50px;\n",
    "            }\n",
    "            h2 {\n",
    "                font-size: 24px;\n",
    "                font-weight: bold;\n",
    "                color: #1c1e21;\n",
    "                margin-top: 30px;\n",
    "                margin-left: 50px;\n",
    "            }\n",
    "            p {\n",
    "                font-size: 18px;\n",
    "                color: #1c1e21;\n",
    "                line-height: 1.5;\n",
    "                text-align: justify;\n",
    "                margin: 20px 50px;\n",
    "            }\n",
    "            .profile-pic {\n",
    "                width: 200px;\n",
    "                height: 200px;\n",
    "                border-radius: 50%;\n",
    "                margin: 50px auto;\n",
    "                display: block;\n",
    "            }\n",
    "            .name {\n",
    "                font-size: 28px;\n",
    "                font-weight: bold;\n",
    "                color: #1c1e21;\n",
    "                text-align: center;\n",
    "            }\n",
    "            .bio {\n",
    "                font-size: 18px;\n",
    "                color: #1c1e21;\n",
    "                line-height: 1.5;\n",
    "                text-align: justify;\n",
    "                margin: 20px 50px;\n",
    "            }\n",
    "            .contact-info {\n",
    "                font-size: 18px;\n",
    "                color: #1c1e21;\n",
    "                line-height: 1.5;\n",
    "                text-align: center;\n",
    "                margin-top: 50px;\n",
    "            }\n",
    "            .contact-info a {\n",
    "                color: #1877f2;\n",
    "                text-decoration: none;\n",
    "            }\n",
    "        </style>\n",
    "    </head>\n",
    "    <body>\n",
    "        <img class=\"profile-pic\" src=\"https://via.placeholder.com/200x200\" alt=\"Profile Picture\">\n",
    "        <h1 class=\"name\">Your Name</h1>\n",
    "        <p class=\"bio\">A brief description about yourself goes here.</p>\n",
    "        <h2>About Me</h2>\n",
    "        <p class=\"bio\">Write a longer description about yourself here.</p>\n",
    "        <h2>Contact Information</h2>\n",
    "        <p class=\"contact-info\">Email: <a href=\"mailto:youremail@example.com\">youremail@example.com</a><br>Phone: 123-456-7890</p>\n",
    "        <iframe width=\"560\" height=\"315\" src=\"https://www.youtube.com/embed/kbGRmBlC3yA?si=gGLsc7zj650DlEC_\" title=\"YouTube video player\" frameborder=\"0\" allow=\"accelerometer; autoplay; clipboard-write; encrypted-media; gyroscope; picture-in-picture; web-share\" allowfullscreen></iframe>                \n",
    "    </body>\n",
    "</html>"
   ]
  },
  {
   "cell_type": "markdown",
   "id": "c01c6450",
   "metadata": {},
   "source": [
    "### 1. `<header>`\n",
    "**Usage**: To create a header section that includes the name and the occupation of the person."
   ]
  },
  {
   "cell_type": "markdown",
   "id": "55e9aba6",
   "metadata": {},
   "source": [
    "**Example 1**: Basic Header\n",
    "<hr>"
   ]
  },
  {
   "cell_type": "markdown",
   "id": "f8d8c82f",
   "metadata": {},
   "source": [
    "<!DOCTYPE html>\n",
    "<html>\n",
    "<head>\n",
    "  <title>Personal Profile</title>\n",
    "  <style>\n",
    "    header {\n",
    "      background-color: #333;\n",
    "      color: white;\n",
    "      padding: 10px;\n",
    "      text-align: center;\n",
    "    }\n",
    "  </style>\n",
    "</head>\n",
    "<body>\n",
    "  <header>\n",
    "    <h1>Your Name</h1>\n",
    "    <p>Web Developer</p>\n",
    "  </header>\n",
    "</body>\n",
    "</html>"
   ]
  },
  {
   "cell_type": "markdown",
   "id": "e4d76dbb",
   "metadata": {},
   "source": [
    "**Example 2**: Header with Navigation\n",
    "<hr>"
   ]
  },
  {
   "cell_type": "markdown",
   "id": "2df05c10",
   "metadata": {},
   "source": [
    "<!DOCTYPE html>\n",
    "<html>\n",
    "<head>\n",
    "  <title>Personal Profile</title>\n",
    "  <style>\n",
    "    header {\n",
    "      background-color: #444;\n",
    "      color: white;\n",
    "      padding: 15px 0;\n",
    "    }\n",
    "    nav {\n",
    "      text-align: center;\n",
    "    }\n",
    "    a {\n",
    "      color: white;\n",
    "      padding: 0 10px;\n",
    "      text-decoration: none;\n",
    "    }\n",
    "  </style>\n",
    "</head>\n",
    "<body>\n",
    "  <header>\n",
    "    <h1>Your Name</h1>\n",
    "    <nav>\n",
    "      <a href=\"#about\">About</a>\n",
    "      <a href=\"#work\">Work</a>\n",
    "      <a href=\"#contact\">Contact</a>\n",
    "    </nav>\n",
    "  </header>\n",
    "</body>\n",
    "</html>"
   ]
  },
  {
   "cell_type": "markdown",
   "id": "da04e0e7",
   "metadata": {},
   "source": [
    "### 2. `<section>`\n",
    "\n",
    "**Usage**: To create different sections like About, Work, Skills, etc."
   ]
  },
  {
   "cell_type": "markdown",
   "id": "9259e5dd",
   "metadata": {},
   "source": [
    "**Example 1**: About Section\n",
    "<hr>"
   ]
  },
  {
   "cell_type": "markdown",
   "id": "2aa40ea7",
   "metadata": {},
   "source": [
    "<section id=\"about\">\n",
    "  <h2>About Me</h2>\n",
    "  <p>Hi, I'm Your Name, a web developer with a passion for front-end technologies. I love creating interactive and visually appealing websites.</p>\n",
    "</section>\n",
    "<style>\n",
    "section {\n",
    "  padding: 20px;\n",
    "  border-bottom: 1px solid #ccc;\n",
    "}\n",
    "</style>"
   ]
  },
  {
   "cell_type": "markdown",
   "id": "79f328fe",
   "metadata": {},
   "source": [
    "**Example 2**: Work Section"
   ]
  },
  {
   "cell_type": "markdown",
   "id": "4cec0f5c",
   "metadata": {},
   "source": [
    "<section id=\"work\">\n",
    "  <h2>Work Experience</h2>\n",
    "  <p>Web Developer at ABC Group</p>\n",
    "  <p>Front-end Developer at ABC Group</p>\n",
    "</section>\n",
    "\n",
    "<style>\n",
    "section {\n",
    "  padding: 20px;\n",
    "  border-bottom: 1px solid #ccc;\n",
    "}\n",
    "</style>"
   ]
  },
  {
   "cell_type": "markdown",
   "id": "e1eae3db",
   "metadata": {},
   "source": [
    "### 3. `<img>`\n",
    "\n",
    "**Usage**: To display a personal photograph.\n"
   ]
  },
  {
   "cell_type": "markdown",
   "id": "74f55754",
   "metadata": {},
   "source": [
    "**Example 1**: Simple Image\n",
    "<hr>"
   ]
  },
  {
   "cell_type": "markdown",
   "id": "cfd6cecb",
   "metadata": {},
   "source": [
    "<img src=\"images/myImage.png\" alt=\"Your Name\" style=\"width: 100px; height: 145px; border-radius: 50%;\">\n"
   ]
  },
  {
   "cell_type": "markdown",
   "id": "5a486021",
   "metadata": {},
   "source": [
    "**Example 2**: Image with Caption\n",
    "<hr>"
   ]
  },
  {
   "cell_type": "markdown",
   "id": "50029ffb",
   "metadata": {},
   "source": [
    "<figure>\n",
    "  <img src=\"myImage.jpg\" alt=\"Full Name\" style=\"width: 150px; height: 150px; border-radius: 50%;\">\n",
    "  <figcaption>Full Name</figcaption>\n",
    "</figure>\n",
    "\n",
    "<style>\n",
    "figure {\n",
    "  text-align: center;\n",
    "}\n",
    "figcaption {\n",
    "  margin-top: 10px;\n",
    "}\n",
    "</style>"
   ]
  },
  {
   "cell_type": "markdown",
   "id": "aae6dcb0",
   "metadata": {},
   "source": [
    "### 4. `<ul>` and `<li>`\n",
    "\n",
    "**Usage**: To create a list of skills, hobbies, or other lists.\n"
   ]
  },
  {
   "cell_type": "markdown",
   "id": "36f45a1c",
   "metadata": {},
   "source": [
    "\n",
    "**Example 1**: Skills List\n",
    "<hr>"
   ]
  },
  {
   "cell_type": "markdown",
   "id": "ca8767c0",
   "metadata": {},
   "source": [
    "<section id=\"skills\">\n",
    "  <h2>Skills</h2>\n",
    "  <ul>\n",
    "    <li>HTML & CSS</li>\n",
    "    <li>JavaScript</li>\n",
    "    <li>React</li>\n",
    "  </ul>\n",
    "</section>\n",
    "\n",
    "<style>\n",
    "ul {\n",
    "  list-style-type: none;\n",
    "  padding: 0;\n",
    "}\n",
    "li {\n",
    "  padding: 5px;\n",
    "}\n",
    "</style>\n"
   ]
  },
  {
   "cell_type": "markdown",
   "id": "e24d9d77",
   "metadata": {},
   "source": [
    "**Example 2**: Hobbies List\n",
    "<hr>"
   ]
  },
  {
   "cell_type": "markdown",
   "id": "022fd621",
   "metadata": {},
   "source": [
    "<section id=\"hobbies\">\n",
    "  <h2>Hobbies</h2>\n",
    "  <ul>\n",
    "    <li>Photography</li>\n",
    "    <li>Hiking</li>\n",
    "    <li>Cooking</li>\n",
    "  </ul>\n",
    "</section>\n",
    "\n",
    "\n",
    "<style>\n",
    "ul {\n",
    "  list-style-type: none;\n",
    "  padding: 0;\n",
    "}\n",
    "li {\n",
    "  padding: 5px;\n",
    "}\n",
    "</style>"
   ]
  },
  {
   "cell_type": "markdown",
   "id": "880156ca",
   "metadata": {},
   "source": [
    "### 5. `<footer>`\n",
    "\n",
    "**Usage**: To create a footer with contact information or social media links.\n"
   ]
  },
  {
   "cell_type": "markdown",
   "id": "37999ef2",
   "metadata": {},
   "source": [
    "**Example 1**: Basic Footer\n",
    "<hr>"
   ]
  },
  {
   "cell_type": "markdown",
   "id": "f7483690",
   "metadata": {},
   "source": [
    "<footer style=\"text-align: center; padding: 10px; background-color: #333; color: white;\">\n",
    "  <p>Email: yourEmail@example.com</p>\n",
    "</footer>\n"
   ]
  },
  {
   "cell_type": "markdown",
   "id": "33094a7b",
   "metadata": {},
   "source": [
    "**Example 2**: Footer with Social Media Links\n",
    "<hr>"
   ]
  },
  {
   "cell_type": "markdown",
   "id": "275e2dd0",
   "metadata": {},
   "source": [
    "\n",
    "<footer style=\"text-align: center; padding: 10px; background-color: #333; color: white;\">\n",
    "  <a href=\"https://www.linkedin.com/feed/\" style=\"color: white; margin-right: 10px;\">LinkedIn</a>\n",
    "  <a href=\"https://github.com/\" style=\"color: white;\">GitHub</a>\n",
    "</footer>\n"
   ]
  },
  {
   "cell_type": "markdown",
   "id": "09cc0b88",
   "metadata": {},
   "source": [
    "### 6. `<link>`"
   ]
  },
  {
   "cell_type": "markdown",
   "id": "f9342b78",
   "metadata": {},
   "source": [
    "The `<link>` tag in HTML is used to define a relationship between the current document and an external resource. This tag is most commonly used to link to external style sheets, but it can also be used to establish other types of links, like icons, preloads, and alternate versions of the document. \n",
    "\n",
    "The `<link>` element is placed inside the `<head>` section of the HTML document.\n",
    "\n",
    "#### Attributes\n",
    "The `<link>` tag has several attributes, the most commonly used are:\n",
    "\n",
    "- `href`: Specifies the URL of the linked document or resource.\n",
    "- `rel`: Defines the relationship between the current document and the linked document/resource.\n",
    "- `type`: Specifies the media type of the linked document (optional).\n",
    "- `media`: Specifies on what device the linked document will be displayed (optional).\n"
   ]
  },
  {
   "cell_type": "markdown",
   "id": "48c5e451",
   "metadata": {},
   "source": [
    "**Examples**\n",
    "<hr>\n",
    "\n",
    "#### Linking a CSS Stylesheet\n",
    "```html\n",
    "<link rel=\"stylesheet\" type=\"text/css\" href=\"styles.css\">\n",
    "```\n",
    "This example links an external CSS file to the HTML document. The `rel` attribute is set to \"stylesheet\", indicating that the linked document is a stylesheet. The `type` attribute is set to \"text/css\", specifying the media type of the stylesheet.\n",
    "\n",
    "#### Adding a Favicon\n",
    "```html\n",
    "<link rel=\"icon\" type=\"image/png\" href=\"favicon.png\">\n",
    "```\n",
    "This example adds a favicon to the website. The `rel` attribute is set to \"icon\", and the `type` attribute specifies the image format.\n",
    "\n",
    "#### Preloading a Font\n",
    "```html\n",
    "<link rel=\"preload\" as=\"font\" href=\"fonts/myfont.woff2\" type=\"font/woff2\" crossorigin=\"anonymous\">\n",
    "```\n",
    "This example shows how to preload a font using the `<link>` element. The `rel` attribute is set to \"preload\", and the `as` attribute is used to specify the type of content to be preloaded. The `crossorigin` attribute is used to indicate that the font is fetched from a different domain, and should be fetched with a CORS request.\n"
   ]
  },
  {
   "cell_type": "markdown",
   "id": "b89ed11c",
   "metadata": {},
   "source": [
    "\n",
    "### Placement\n",
    "The `<link>` element should be placed within the `<head>` section of the HTML document to ensure that the linked resources are identified and processed early in the page load, which helps in improving the performance and user experience.\n"
   ]
  },
  {
   "cell_type": "markdown",
   "id": "2610f084",
   "metadata": {},
   "source": [
    "\n",
    "### Closing Tag\n",
    "The `<link>` tag is an empty element, meaning it does not require a closing tag. You just place it within the `<head>` section, and it self-closes."
   ]
  },
  {
   "cell_type": "markdown",
   "id": "76e7ecec",
   "metadata": {},
   "source": [
    "### Activity 1: (20 min) \n",
    "\n",
    "Apply the sections above to develop the landing page of your personal profile. "
   ]
  },
  {
   "cell_type": "markdown",
   "id": "c86499ef",
   "metadata": {},
   "source": [
    "### 7. `<iframe>`\n",
    "An `<iframe>` is used to embed another document within the current HTML document.\n",
    "\n",
    "#### Attributes\n",
    "- `src`: Specifies the URL of the page to embed.\n",
    "- `width` and `height`: Define the size of the iframe.\n",
    "- `frameborder`: Specifies whether or not to display a border around the iframe.\n",
    "\n",
    "**Example**\n",
    "<hr>\n",
    "\n",
    "Embedding a Google Map to show your location:\n",
    "  ```html\n",
    "  <iframe\n",
    "    src=\"https://www.google.com/maps/embed?pb=!1m18!1m12!1m3!1d224345.8399955962!2d-0.1276474!3d51.509865!2m3!1f0!2f0!3f0!3m2!1i1024!2i768!4f13.1!3m3!1m2!1s0x4876035159bb13c5%3A0x402f5!2sLondon!5e0!3m2!1sen!2suk!4v1666626481301!5m2!1sen!2suk\"\n",
    "    width=\"600\"\n",
    "    height=\"450\"\n",
    "    style=\"border:0;\"\n",
    "    allowfullscreen=\"\"\n",
    "    loading=\"lazy\"\n",
    "    referrerpolicy=\"no-referrer-when-downgrade\">\n",
    "  </iframe>\n",
    "  ```\n",
    "  \n"
   ]
  },
  {
   "cell_type": "markdown",
   "id": "52908b7a",
   "metadata": {},
   "source": [
    " <iframe\n",
    "    src=\"https://www.google.com/maps/embed?pb=!1m18!1m12!1m3!1d224345.8399955962!2d-0.1276474!3d51.509865!2m3!1f0!2f0!3f0!3m2!1i1024!2i768!4f13.1!3m3!1m2!1s0x4876035159bb13c5%3A0x402f5!2sLondon!5e0!3m2!1sen!2suk!4v1666626481301!5m2!1sen!2suk\"\n",
    "    width=\"600\"\n",
    "    height=\"450\"\n",
    "    style=\"border:0;\"\n",
    "    allowfullscreen=\"\"\n",
    "    loading=\"lazy\"\n",
    "    referrerpolicy=\"no-referrer-when-downgrade\">\n",
    "  </iframe>"
   ]
  },
  {
   "cell_type": "markdown",
   "id": "39d32587",
   "metadata": {},
   "source": [
    "**Example**\n",
    "<hr>\n",
    "\n",
    "Embedding a YouTube video:\n",
    "  ```html\n",
    "  <iframe \n",
    "    width=\"560\" \n",
    "    height=\"315\" \n",
    "    src=\"https://www.youtube.com/embed/kBV8gPVZNEE?si=6hk6vMOyksFF3yAH\" \n",
    "    title=\"YouTube video player\" \n",
    "    frameborder=\"0\" \n",
    "    allow=\"accelerometer; autoplay; clipboard-write; encrypted-media; gyroscope; picture-in-picture; web-share\" \n",
    "    allowfullscreen>\n",
    "    </iframe>\n",
    "\n",
    "  ```\n"
   ]
  },
  {
   "cell_type": "markdown",
   "id": "44cc0bae",
   "metadata": {},
   "source": [
    "<iframe width=\"560\" height=\"315\" src=\"https://www.youtube.com/embed/kBV8gPVZNEE?si=6hk6vMOyksFF3yAH\" title=\"YouTube video player\" frameborder=\"0\" allow=\"accelerometer; autoplay; clipboard-write; encrypted-media; gyroscope; picture-in-picture; web-share\" allowfullscreen></iframe>"
   ]
  },
  {
   "cell_type": "markdown",
   "id": "fc1860e8",
   "metadata": {},
   "source": [
    "\n",
    "### 8. `<button>`\n",
    "A `<button>` represents a clickable button.\n",
    "\n",
    "#### Attributes\n",
    "- `type`: Specifies the type of button. Common values are `button`, `submit`, and `reset`.\n",
    "- `disabled`: Indicates that the button should be disabled.\n",
    "- `onclick`: Specifies a JavaScript function or code to be executed when the button is clicked. The value of the onclick attribute is the JavaScript code or the name of the JavaScript function that you want to call when the button is clicked.\n",
    "\n",
    "**Examples**\n",
    "<hr>\n",
    "\n",
    "- A button to submit a contact form:\n",
    "  ```html\n",
    "  <button type=\"submit\">Submit</button>\n",
    "  ```\n",
    "- A button to trigger a JavaScript function:\n",
    "  ```html\n",
    "  <button type=\"button\" onclick=\"alert('Button Clicked!')\">Click Me!</button>\n",
    "  ```\n",
    "- Using Inline JavaScript Code\n",
    "  ```html\n",
    "  <button onclick=\"alert('Button was clicked!')\">Click Me</button>\n",
    "  ```\n",
    "  In this example, when the button is clicked, it will display an alert box with the message \"Button was clicked!\".\n",
    "\n",
    "- Calling a JavaScript Function\n",
    "  ```html\n",
    "  <button onclick=\"myFunction()\">Click Me</button>\n",
    "  <script>\n",
    "  function myFunction() {\n",
    "    alert('Button was clicked!');\n",
    "  }\n",
    "  </script>\n",
    "  ```\n",
    "  In this example, there is a JavaScript function named `myFunction` defined in a `<script>` tag. When the button is clicked, `myFunction` is called, which shows an alert box with the message \"Button was clicked!\".\n",
    "\n",
    "  The `onclick` attribute provides a quick way to add click event listeners directly in your HTML, but it’s generally considered better practice to separate your JavaScript from your HTML. You can do this by adding an event listener in your JavaScript code instead of using the `onclick` attribute:\n",
    "\n",
    "- Using addEventListener in JavaScript\n",
    "  ```html\n",
    "  <button id=\"myButton\">Click Me</button>\n",
    "  <script>\n",
    "  document.getElementById('myButton').addEventListener('click', function() {\n",
    "    alert('Button was clicked!');\n",
    "    });\n",
    "  </script>\n",
    "  ```\n",
    "  In this example, the button has an `id` of \"myButton\". In the JavaScript, `getElementById` is used to get a reference to the button, and `addEventListener` is used to attach a click event listener that shows an alert when the button is clicked. This method keeps your JavaScript and HTML separate, which can make your code easier to read, maintain, and debug."
   ]
  },
  {
   "cell_type": "markdown",
   "id": "0e79aaf6",
   "metadata": {},
   "source": [
    "\n",
    "### 9. `<video>`\n",
    "The `<video>` element is used to embed video files.\n",
    "\n",
    "#### Attributes:\n",
    "- `src`: Specifies the source of the video file.\n",
    "- `controls`: Adds video controls like play, pause, and volume.\n",
    "- `autoplay`: Specifies that the video will start playing as soon as it is ready.\n",
    "\n",
    "**Examples**\n",
    "<hr>\n",
    "\n",
    "- Embedding a video with controls:\n",
    "  ```html\n",
    "  <video width=\"320\" height=\"240\" controls>\n",
    "    <source src=\"movie.mp4\" type=\"video/mp4\">\n",
    "    Your browser does not support the video tag.\n",
    "  </video>\n",
    "  ```\n",
    "- Embedding a video that autoplays and loops:\n",
    "  ```html\n",
    "  <video width=\"320\" height=\"240\" autoplay loop>\n",
    "    <source src=\"movie.mp4\" type=\"video/mp4\">\n",
    "    Your browser does not support the video tag.\n",
    "  </video>\n",
    "  ```\n"
   ]
  },
  {
   "cell_type": "markdown",
   "id": "45e4a45e",
   "metadata": {},
   "source": [
    "<video width=\"320\" height=\"240\" controls>\n",
    "    <source src=\"movie.mp4\" type=\"video/mp4\">\n",
    "    Your browser does not support the video tag.\n",
    "  </video>"
   ]
  },
  {
   "cell_type": "markdown",
   "id": "6066bc44",
   "metadata": {},
   "source": [
    "\n",
    "### 10. `<tfoot>`\n",
    "The `<tfoot>` element is used to group the footer content in a table.\n",
    "\n",
    "#### Attributes:\n",
    "- Global attributes like `class`, `id`, and `style` can be applied but `<tfoot>` doesn’t have specific attributes of its own.\n",
    "\n",
    "**Example**\n",
    "<hr>\n",
    "\n",
    "- A table displaying skills with a summary in the footer:\n",
    "  ```html\n",
    "  <table>\n",
    "    <thead>\n",
    "      <tr><th>Skill</th><th>Rating</th></tr>\n",
    "    </thead>\n",
    "    <tbody>\n",
    "      <tr><td>HTML</td><td>5/5</td></tr>\n",
    "      <tr><td>CSS</td><td>4/5</td></tr>\n",
    "    </tbody>\n",
    "    <tfoot>\n",
    "      <tr><td colspan=\"2\">Ratings are out of 5</td></tr>\n",
    "    </tfoot>\n",
    "  </table>\n",
    "  ```\n"
   ]
  },
  {
   "cell_type": "markdown",
   "id": "005d90a0",
   "metadata": {},
   "source": [
    "<table>\n",
    "    <thead>\n",
    "      <tr><th>Skill</th><th>Rating</th></tr>\n",
    "    </thead>\n",
    "    <tbody>\n",
    "      <tr><td>HTML</td><td>5/5</td></tr>\n",
    "      <tr><td>CSS</td><td>4/5</td></tr>\n",
    "    </tbody>\n",
    "    <tfoot>\n",
    "      <tr><td colspan=\"2\">Ratings are out of 5</td></tr>\n",
    "    </tfoot>\n",
    "  </table>"
   ]
  },
  {
   "cell_type": "markdown",
   "id": "16446ac9",
   "metadata": {},
   "source": [
    "### 11. `<table>`\n",
    "The `<table>` element is used to create a table.\n",
    "\n",
    "#### Attributes\n",
    "- `border`: Defines the width of the border around the table and its cells.\n",
    "- `cellpadding`: Defines the space between the cell content and its borders.\n",
    "- `cellspacing`: Defines the space between cells."
   ]
  },
  {
   "cell_type": "markdown",
   "id": "d2ad5cdb",
   "metadata": {},
   "source": [
    "**Examples**\n",
    "<hr>\n",
    "\n",
    "- A table displaying project experience:"
   ]
  },
  {
   "cell_type": "markdown",
   "id": "4cfabe80",
   "metadata": {},
   "source": [
    "  <table border=\"1\">\n",
    "    <tr>\n",
    "      <th>Project</th>\n",
    "      <th>Role</th>\n",
    "      <th>Technology Used</th>\n",
    "    </tr>\n",
    "    <tr>\n",
    "      <td>Website Development</td>\n",
    "      <td>Frontend Developer</td>\n",
    "      <td>HTML, CSS, JavaScript</td>\n",
    "    </tr>\n",
    "    <tr>\n",
    "      <td>Mobile App</td>\n",
    "      <td>UI/UX Designer</td>\n",
    "      <td>Sketch, Figma</td>\n",
    "      </tr>\n",
    "  </table>"
   ]
  },
  {
   "cell_type": "markdown",
   "id": "d8fe359e",
   "metadata": {},
   "source": [
    "<table border=\"1\">\n",
    "    <tr>\n",
    "      <th>Degree</th>\n",
    "      <th>University</th>\n",
    "      <th>Year</th>\n",
    "    </tr>\n",
    "    <tr>\n",
    "      <td>Bachelor's</td>\n",
    "      <td>University of Example</td>\n",
    "      <td>2020</td>\n",
    "    </tr>\n",
    "    <tr>\n",
    "      <td>Master's</td>\n",
    "      <td>University of Example</td>\n",
    "      <td>2022</td>\n",
    "    </tr>\n",
    "  </table>\n",
    "  \n"
   ]
  },
  {
   "cell_type": "markdown",
   "id": "363c775f",
   "metadata": {},
   "source": [
    "\n",
    "- A table displaying project experience:\n"
   ]
  },
  {
   "cell_type": "markdown",
   "id": "62792c60",
   "metadata": {},
   "source": [
    "\n",
    "  <table border=\"1\">\n",
    "    <tr>\n",
    "      <th>Project</th>\n",
    "      <th>Role</th>\n",
    "      <th>Technology Used</th>\n",
    "    </tr>\n",
    "    <tr>\n",
    "      <td>Website Development</td>\n",
    "      <td>Frontend Developer</td>\n",
    "      <td>HTML, CSS, JavaScript</td>\n",
    "    </tr>\n",
    "    <tr>\n",
    "      <td>Mobile App</td>\n",
    "      <td>UI/UX Designer</td>\n",
    "      <td>Sketch, Figma</td>\n",
    "   \n",
    "\n",
    " </tr>\n",
    "  </table>"
   ]
  },
  {
   "cell_type": "markdown",
   "id": "92149ccd",
   "metadata": {},
   "source": [
    "### 10. `<form>`\n",
    "The `<form>` element in HTML is used to create a form for user input. Forms are a crucial part of the web, enabling users to submit data to the server for processing. The `<form>` element wraps all your input elements and the buttons for submission.\n",
    "\n",
    "#### Attributes\n",
    "- `action`: Specifies where to send the form data when the form is submitted. It holds the URL of the server-side script that will handle the submitted data.\n",
    "- `method`: Specifies the HTTP method to use when sending form data. Common methods are `GET` (default) and `POST`.\n",
    "- `enctype`: Specifies how the form data should be encoded when submitting it to the server. This attribute is important when you are including elements like `<input type=\"file\">` in your form.\n",
    "\n",
    "**Example**: Contact Us Form\n",
    "<hr>\n",
    "Below is an example of a Contact Us form using the form element."
   ]
  },
  {
   "cell_type": "markdown",
   "id": "0b96953e",
   "metadata": {},
   "source": [
    "<!DOCTYPE html>\n",
    "<html lang=\"en\">\n",
    "<head>\n",
    "  <meta charset=\"UTF-8\">\n",
    "  <meta http-equiv=\"X-UA-Compatible\" content=\"IE=edge\">\n",
    "  <meta name=\"viewport\" content=\"width=device-width, initial-scale=1.0\">\n",
    "  <title>Contact Us</title>\n",
    "  <style>\n",
    "    form {\n",
    "      max-width: 400px;\n",
    "      margin: auto;\n",
    "    }\n",
    "    label, input, textarea, button {\n",
    "      width: 100%;\n",
    "      margin-bottom: 1em;\n",
    "    }\n",
    "    label {\n",
    "      margin-bottom: 0.5em;\n",
    "    }\n",
    "    button {\n",
    "      cursor: pointer;\n",
    "    }\n",
    "  </style>\n",
    "</head>\n",
    "<body>\n",
    "  <h2>Contact Us</h2>\n",
    "  <form action=\"/submit-your-form\" method=\"POST\">\n",
    "    <label for=\"name\">Name:</label>\n",
    "    <input type=\"text\" id=\"name\" name=\"name\" required>\n",
    "    <label for=\"email\">Email:</label>\n",
    "    <input type=\"email\" id=\"email\" name=\"email\" required>\n",
    "    <label for=\"message\">Message:</label>\n",
    "    <textarea id=\"message\" name=\"message\" rows=\"4\" required></textarea>\n",
    "    <button type=\"submit\">Send Message</button>\n",
    "  </form>\n",
    "</body>\n",
    "</html>"
   ]
  },
  {
   "cell_type": "markdown",
   "id": "292c1d1f",
   "metadata": {},
   "source": [
    "\n",
    "In this example:\n",
    "- The form is styled to be centered and have a maximum width for better appearance.\n",
    "- Each label/input pair is provided with proper `id` and `for` attributes to ensure accessibility.\n",
    "- The `required` attribute is added to each input and textarea to make sure the user cannot submit the form without filling out these fields.\n",
    "- The `action` attribute is set to `\"/submit-your-form\"` to simulate sending the form data to a server-side script at that URL.\n",
    "- The `method` is set to `\"POST\"` to ensure the form data is sent via an HTTP POST request."
   ]
  },
  {
   "cell_type": "markdown",
   "id": "447b9c63",
   "metadata": {},
   "source": [
    "The `method` attribute in a `<form>` element defines how to send form data to a server. It specifies the HTTP method to be used when submitting the form. The two most common HTTP methods used are:\n",
    "\n",
    "#### 10.1 `GET`\n",
    "- When the `GET` method is used, form data is appended to the URL in the form of a query string.\n",
    "- The `GET` method is used for forms where the form submissions do not result in side effects, like search forms.\n",
    "- It has limitations on the amount of information that can be sent (because URLs have a length limit).\n",
    "- Sensitive data should not be sent using the `GET` method because it is visible in the URL, and therefore:\n",
    "  - Visible in the browser's address bar\n",
    "  - Stored in browser history\n",
    "  - Potentially cached in browsers and servers\n",
    "\n",
    "**Example:** using `GET`\n",
    "<hr>\n",
    "\n",
    "```html\n",
    "<form action=\"/submit_form\" method=\"GET\">\n",
    "  <label for=\"name\">Name:</label>\n",
    "  <input type=\"text\" id=\"name\" name=\"name\">\n",
    "  <input type=\"submit\" value=\"Submit\">\n",
    "</form>\n",
    "```\n"
   ]
  },
  {
   "cell_type": "markdown",
   "id": "cfc8e378",
   "metadata": {},
   "source": [
    "<form action=\"/submit_form\" method=\"GET\">\n",
    "  <label for=\"name\">Name:</label>\n",
    "  <input type=\"text\" id=\"name\" name=\"name\">\n",
    "  <input type=\"submit\" value=\"Submit\">\n",
    "</form>\n",
    "\n",
    "If the user entered \"Yash B\" and submitted the form, the browser might navigate to `/submit_form?name=Yash+B`."
   ]
  },
  {
   "cell_type": "markdown",
   "id": "3cdd3845",
   "metadata": {},
   "source": [
    "#### 10.2. `POST`\n",
    "- When the `POST` method is used, form data is included in the body of the HTTP request, not appended to the URL.\n",
    "- The `POST` method is used for forms that create or update data on the server, like registration forms.\n",
    "- It does not have limitations on the amount of information that can be sent.\n",
    "- More secure than `GET` because the submitted data is not visible in the URL.\n",
    "\n",
    "**Example** using `POST`\n",
    "<hr>\n",
    "\n",
    "```html\n",
    "<form action=\"/submit_form\" method=\"POST\">\n",
    "  <label for=\"name\">Name:</label>\n",
    "  <input type=\"text\" id=\"name\" name=\"name\">\n",
    "  <input type=\"submit\" value=\"Submit\">\n",
    "</form>\n",
    "```"
   ]
  },
  {
   "cell_type": "markdown",
   "id": "bcea673c",
   "metadata": {},
   "source": [
    "<form action=\"/submit_form\" method=\"POST\">\n",
    "  <label for=\"name\">Name:</label>\n",
    "  <input type=\"text\" id=\"name\" name=\"name\">\n",
    "  <input type=\"submit\" value=\"Submit\">\n",
    "</form>\n",
    "\n",
    "\n",
    "In the `POST` example, the form data is sent in the HTTP request body, not in the URL."
   ]
  },
  {
   "cell_type": "markdown",
   "id": "1e6cee4b",
   "metadata": {},
   "source": [
    "#### Choosing the Method\n",
    "- Use `GET` when the form is idempotent (i.e., the form submission does not change server state), and when you want to be able to bookmark or share the URL.\n",
    "- Use `POST` for form submissions where data needs to be securely sent, or when the form submission changes server state.\n",
    "\n",
    "If the `method` attribute is not specified, the form data will be sent using `GET` by default."
   ]
  },
  {
   "cell_type": "markdown",
   "id": "0a0b1462",
   "metadata": {},
   "source": [
    "There are other HTTP methods available, each serving a different purpose in terms of how they interact with server resources. Here are the most commonly used HTTP methods:\n",
    "1. **PUT**: Updates a current resource or creates a new resource if it does not exist. Data is included in the body of the request.\n",
    "\n",
    "2. **DELETE**: Deletes a specified resource.\n",
    "\n",
    "3. **PATCH**: Applies partial modifications to a resource. Like PUT, PATCH also includes the data in the body of the request, but it only updates the fields that are provided, leaving the others untouched.\n",
    "\n",
    "4. **HEAD**: Same as GET, but it does not return the body in the response. This is useful for checking what a GET request will return before actually making a GET request - like before downloading a large file.\n",
    "\n",
    "5. **OPTIONS**: Returns the HTTP methods that the server supports for a specific URL.\n",
    "\n",
    "6. **TRACE**: Performs a message loop-back test along the path to the target resource.\n",
    "\n",
    "While GET and POST are by far the most commonly used HTTP methods, and they are supported by all browsers in the context of web forms, the others can be used in the context of APIs or when making HTTP requests from server-side code or tools like `curl`. However, not all web servers are configured to handle all of these methods by default, so it's important to ensure that your server is configured correctly if you plan to use them."
   ]
  },
  {
   "cell_type": "markdown",
   "id": "78b61dcf",
   "metadata": {},
   "source": [
    "### 11. `<select>` and `<option>`\n",
    "\n",
    "The `<select>` element in HTML is used to create a drop-down list. It provides users with a list of options from which they can choose one. Here is a detailed breakdown of the `<select>` element:\n",
    "\n",
    "#### Basic Syntax\n",
    "\n",
    "```html\n",
    "<select name=\"name\" id=\"id\" size=\"number\" multiple>\n",
    "  <option value=\"value1\">Option 1</option>\n",
    "  <option value=\"value2\">Option 2</option>\n",
    "  ...\n",
    "</select>\n",
    "```\n",
    "\n",
    "#### Attributes\n",
    "\n",
    "- **name**: The name attribute is used to specify the name of the drop-down list. This is important for server-side processing as the server uses this name to recognize the form data.\n",
    "\n",
    "- **id**: The id attribute is used to give a unique identifier to the drop-down list. This is particularly useful for manipulating the drop-down list with JavaScript or styling it with CSS.\n",
    "\n",
    "- **size**: The size attribute is used to define the number of visible options in the drop-down list. By default, a drop-down list only shows one option at a time. When you set the size attribute to a number greater than 1, it transforms the drop-down list into a list box, showing multiple options at once.\n",
    "\n",
    "- **multiple**: The multiple attribute is a boolean attribute that, when present, allows the user to select more than one option from the list. To select multiple options, users typically hold down the Ctrl (Windows/Linux) or Command (Mac) key while clicking the options.\n",
    "\n",
    "#### Nested Elements\n",
    "\n",
    "- **<option>**: This element is used to define options that can be selected. The `<option>` element can contain a `value` attribute to define the value sent to the server on form submission and can also contain text, which is displayed to the user in the drop-down list.\n",
    "\n",
    "- **<optgroup>**: This element is used to group nested `<option>` elements inside the `<select>` drop-down list. The `<optgroup>` element helps in categorizing the drop-down options for a better user experience.\n",
    "\n",
    "**Example**\n",
    "<hr>\n",
    "\n",
    "```html\n",
    "<label for=\"cars\">Choose a car:</label>\n",
    "<select id=\"cars\" name=\"car\">\n",
    "  <option value=\"Volvo\">Volvo</option>\n",
    "  <option value=\"BMW\">BMW</option>\n",
    "  <option value=\"Mercedes\">Mercedes</option>\n",
    "  <option value=\"Audi\">Audi</option>\n",
    "</select>\n",
    "```\n"
   ]
  },
  {
   "cell_type": "markdown",
   "id": "042de460",
   "metadata": {},
   "source": [
    "<label for=\"cars\">Choose a car:</label>\n",
    "<select id=\"cars\" name=\"car\">\n",
    "  <option value=\"Volvo\">Volvo</option>\n",
    "  <option value=\"BMW\">BMW</option>\n",
    "  <option value=\"Mercedes\">Mercedes</option>\n",
    "  <option value=\"Audi\">Audi</option>\n",
    "</select>"
   ]
  },
  {
   "cell_type": "markdown",
   "id": "487ac2cb",
   "metadata": {},
   "source": [
    "#### Usage in Forms\n",
    "\n",
    "When used inside a form, the value of the selected option in the drop-down list gets sent to the server when the form is submitted. The server receives this data as a part of the form data, using the `name` attribute of the `<select>` element as the key.\n",
    "\n",
    "#### Styling and Interaction\n",
    "\n",
    "The appearance of the drop-down list can be customized using CSS. JavaScript can be used to add interactivity, such as responding to user selections or dynamically updating the options available in the drop-down list.\n",
    "\n",
    "#### Accessibility\n",
    "\n",
    "For accessibility purposes, it is a good practice to use a `<label>` element in conjunction with the `<select>` element and link them using the `for` attribute (set to the `id` of the `<select>` element). This ensures that screen readers can properly announce the purpose of the drop-down list to users."
   ]
  }
 ],
 "metadata": {
  "kernelspec": {
   "display_name": "Python 3 (ipykernel)",
   "language": "python",
   "name": "python3"
  },
  "language_info": {
   "codemirror_mode": {
    "name": "ipython",
    "version": 3
   },
   "file_extension": ".py",
   "mimetype": "text/x-python",
   "name": "python",
   "nbconvert_exporter": "python",
   "pygments_lexer": "ipython3",
   "version": "3.9.13"
  }
 },
 "nbformat": 4,
 "nbformat_minor": 5
}
